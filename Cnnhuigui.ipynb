{
  "cells": [
    {
      "cell_type": "markdown",
      "metadata": {
        "id": "view-in-github",
        "colab_type": "text"
      },
      "source": [
        "<a href=\"https://colab.research.google.com/github/frzlh/DeepLearning/blob/main/Cnnhuigui.ipynb\" target=\"_parent\"><img src=\"https://colab.research.google.com/assets/colab-badge.svg\" alt=\"Open In Colab\"/></a>"
      ]
    },
    {
      "cell_type": "code",
      "source": [
        "!wget http://vis-www.cs.umass.edu/lfw/lfw-deepfunneled.tgz\n",
        "!tar xf lfw-deepfunneled.tgz\n",
        "!mkdir lfw-deepfunneled/train\n",
        "!mkdir lfw-deepfunneled/test\n",
        "!mv lfw-deepfunneled/[A-W]* lfw-deepfunneled/train\n",
        "!mv lfw-deepfunneled/[X-Z]* lfw-deepfunneled/test"
      ],
      "metadata": {
        "colab": {
          "base_uri": "https://localhost:8080/"
        },
        "id": "SS4f6J1_7KUV",
        "outputId": "6eb2abbe-0bca-4d50-ce9d-8d353ed41aaf"
      },
      "execution_count": null,
      "outputs": [
        {
          "output_type": "stream",
          "name": "stdout",
          "text": [
            "--2024-08-20 14:34:31--  http://vis-www.cs.umass.edu/lfw/lfw-deepfunneled.tgz\n",
            "Resolving vis-www.cs.umass.edu (vis-www.cs.umass.edu)... 128.119.244.95\n",
            "Connecting to vis-www.cs.umass.edu (vis-www.cs.umass.edu)|128.119.244.95|:80... connected.\n",
            "HTTP request sent, awaiting response... 200 OK\n",
            "Length: 108761145 (104M) [application/x-gzip]\n",
            "Saving to: ‘lfw-deepfunneled.tgz.3’\n",
            "\n",
            "lfw-deepfunneled.tg  36%[======>             ]  37.88M  1.26MB/s    eta 54s    "
          ]
        }
      ]
    },
    {
      "cell_type": "code",
      "source": [
        "import torch\n",
        "from torch import nn,optim\n",
        "from torchvision.datasets import ImageFolder\n",
        "import tqdm\n",
        "from torchvision import transforms\n",
        "from torch.utils.data import(Dataset,DataLoader,TensorDataset)\n",
        "class DownSizedPairImageFolder(ImageFolder):\n",
        "  def __init__(self,root,transform=None,large_size=128,small_size=32,**kwds):\n",
        "    super().__init__(root,transform=transform,**kwds)\n",
        "    self.large_resizer=transforms.Resize(large_size)\n",
        "    self.small_resizer=transforms.Resize(small_size)\n",
        "\n",
        "  def __getitem__(self, index):\n",
        "    path,_=self.imgs[index]\n",
        "    img=self.loader(path)\n",
        "\n",
        "    large_img=self.large_resizer(img)\n",
        "    small_img=self.small_resizer(img)\n",
        "\n",
        "    if self.transform is not None:\n",
        "      large_img=self.transform(large_img)\n",
        "      small_img=self.transform(small_img)\n",
        "\n",
        "    return small_img,large_img"
      ],
      "metadata": {
        "id": "QPeDhP99EpBl"
      },
      "execution_count": null,
      "outputs": []
    },
    {
      "cell_type": "markdown",
      "source": [
        "用于训练和验证"
      ],
      "metadata": {
        "id": "v6ctMIR3Z0eS"
      }
    },
    {
      "cell_type": "code",
      "source": [
        "train_data=DownSizedPairImageFolder(\"lfw-deepfunneled/train\",transform=transforms.ToTensor())\n",
        "test_data=DownSizedPairImageFolder(\"lfw-deepfunneled/test\",transform=transforms.ToTensor())\n",
        "\n",
        "batch_size=32\n",
        "train_loader=DataLoader(train_data,batch_size=batch_size,shuffle=True,num_workers=2)\n",
        "test_loader=DataLoader(test_data,batch_size=batch_size,shuffle=True,num_workers=2)"
      ],
      "metadata": {
        "id": "srzJh4aCSdyi"
      },
      "execution_count": null,
      "outputs": []
    },
    {
      "cell_type": "markdown",
      "source": [
        "模型创建"
      ],
      "metadata": {
        "id": "O496gY-PZvqC"
      }
    },
    {
      "cell_type": "code",
      "source": [
        "net=nn.Sequential(\n",
        "    nn.Conv2d(3,256,4,stride=2,padding=1),\n",
        "    nn.ReLU(),\n",
        "    nn.BatchNorm2d(256),\n",
        "    nn.Conv2d(256,512,4,stride=2,padding=1),\n",
        "    nn.ReLU(),\n",
        "    nn.BatchNorm2d(512),\n",
        "    nn.ConvTranspose2d(512,256,4,stride=2,padding=1),\n",
        "    nn.ReLU(),\n",
        "    nn.BatchNorm2d(256),\n",
        "    nn.ConvTranspose2d(256,128,4,stride=2,padding=1),\n",
        "    nn.ReLU(),\n",
        "    nn.BatchNorm2d(128),\n",
        "    nn.ConvTranspose2d(128,64,4,stride=2,padding=1),\n",
        "    nn.ReLU(),\n",
        "    nn.BatchNorm2d(64),\n",
        "    nn.ConvTranspose2d(64,3,4,stride=2,padding=1)\n",
        "\n",
        ")"
      ],
      "metadata": {
        "id": "mphgjI9qTcBL"
      },
      "execution_count": null,
      "outputs": []
    },
    {
      "cell_type": "markdown",
      "source": [
        "验证用辅助函数"
      ],
      "metadata": {
        "id": "DzvNJ_Ao_jyt"
      }
    },
    {
      "cell_type": "code",
      "source": [
        "import math\n",
        "def psnr(mse,max_v=1.0):\n",
        "  return 10*math.log10(max_v**2/mse)\n",
        "\n",
        "def eval_net(net,data_loader,device=\"cpu\"):\n",
        "  net.eval()\n",
        "  ys=[]\n",
        "  ypreds=[]\n",
        "  for x,y in data_loader:\n",
        "    x=x.to(device)\n",
        "    y=y.to(device)\n",
        "    with torch.no_grad():\n",
        "      y_pred=net(x)\n",
        "    ys.append(y)\n",
        "    ypreds.append(y_pred)\n",
        "  ys=torch.cat(ys)\n",
        "  ypreds=torch.cat(ypreds)\n",
        "  score=nn.functional.mse_loss(ypreds,ys).item()\n",
        "  return score"
      ],
      "metadata": {
        "id": "ZBzr70Xq46BO"
      },
      "execution_count": null,
      "outputs": []
    },
    {
      "cell_type": "markdown",
      "source": [
        "训练用辅助函数"
      ],
      "metadata": {
        "id": "vuPjLXjwAU91"
      }
    },
    {
      "cell_type": "code",
      "source": [
        "def train_net(net,train_loader,test_loader,optimizer_cls=optim.Adam,loss_fn=nn.MSELoss(),n_iter=10,device=\"cpu\"):\n",
        "  train_losses=[]\n",
        "  train_acc=[]\n",
        "  val_acc=[]\n",
        "  optimizer=optimizer_cls(net.parameters())\n",
        "  for epoch in range(n_iter):\n",
        "    running_loss=0.0\n",
        "    net.train()\n",
        "    n=0\n",
        "    score=0\n",
        "    for i,(xx,yy) in tqdm.tqdm(enumerate(train_loader),total=len(train_loader)):\n",
        "      xx=xx.to(device)\n",
        "      yy=yy.to(device)\n",
        "      y_pred=net(xx)\n",
        "      loss=loss_fn(y_pred,yy)\n",
        "      optimizer.zero_grad()\n",
        "      loss.backward()\n",
        "      optimizer.step()\n",
        "      running_loss+=loss.item()\n",
        "      n+=len(xx)\n",
        "    train_losses.append(running_loss/len(train_loader))\n",
        "    val_acc.append(eval_net(net,test_loader,device))\n",
        "    print(epoch,train_losses[-1],psnr(train_losses[-1]),psnr(val_acc[-1]),flush=True)"
      ],
      "metadata": {
        "id": "cFth2ZGFAZJ1"
      },
      "execution_count": null,
      "outputs": []
    },
    {
      "cell_type": "code",
      "source": [
        "net.to(\"cuda:0\")\n",
        "train_net(net,train_loader,test_loader,device=\"cuda:0\")"
      ],
      "metadata": {
        "colab": {
          "base_uri": "https://localhost:8080/"
        },
        "id": "sSWGDxwND4ZV",
        "outputId": "f78cf20c-adc5-478a-8a15-20327e7a83cb"
      },
      "execution_count": null,
      "outputs": [
        {
          "metadata": {
            "tags": null
          },
          "name": "stderr",
          "output_type": "stream",
          "text": [
            "100%|██████████| 409/409 [00:29<00:00, 14.03it/s]\n"
          ]
        },
        {
          "metadata": {
            "tags": null
          },
          "name": "stdout",
          "output_type": "stream",
          "text": [
            "0 0.04405897735756956 13.55965587374056 19.099055017634665\n"
          ]
        },
        {
          "metadata": {
            "tags": null
          },
          "name": "stderr",
          "output_type": "stream",
          "text": [
            "100%|██████████| 409/409 [00:29<00:00, 13.82it/s]\n"
          ]
        },
        {
          "metadata": {
            "tags": null
          },
          "name": "stdout",
          "output_type": "stream",
          "text": [
            "1 0.006398116668781908 21.939478448792606 21.658744664348223\n"
          ]
        },
        {
          "metadata": {
            "tags": null
          },
          "name": "stderr",
          "output_type": "stream",
          "text": [
            "100%|██████████| 409/409 [00:29<00:00, 13.97it/s]\n"
          ]
        },
        {
          "metadata": {
            "tags": null
          },
          "name": "stdout",
          "output_type": "stream",
          "text": [
            "2 0.004811940648112546 23.1767973801469 24.0151132339517\n"
          ]
        },
        {
          "metadata": {
            "tags": null
          },
          "name": "stderr",
          "output_type": "stream",
          "text": [
            "100%|██████████| 409/409 [00:30<00:00, 13.35it/s]\n"
          ]
        },
        {
          "metadata": {
            "tags": null
          },
          "name": "stdout",
          "output_type": "stream",
          "text": [
            "3 0.004136622879394583 23.833540703211643 21.02695702641526\n"
          ]
        },
        {
          "metadata": {
            "tags": null
          },
          "name": "stderr",
          "output_type": "stream",
          "text": [
            "100%|██████████| 409/409 [00:29<00:00, 13.93it/s]\n"
          ]
        },
        {
          "metadata": {
            "tags": null
          },
          "name": "stdout",
          "output_type": "stream",
          "text": [
            "4 0.00353722103238379 24.51337801325947 24.03386183752485\n"
          ]
        },
        {
          "metadata": {
            "tags": null
          },
          "name": "stderr",
          "output_type": "stream",
          "text": [
            "100%|██████████| 409/409 [00:29<00:00, 13.82it/s]\n"
          ]
        },
        {
          "metadata": {
            "tags": null
          },
          "name": "stdout",
          "output_type": "stream",
          "text": [
            "5 0.0033803877470819027 24.710334811543788 19.481594747404433\n"
          ]
        },
        {
          "metadata": {
            "tags": null
          },
          "name": "stderr",
          "output_type": "stream",
          "text": [
            "100%|██████████| 409/409 [00:29<00:00, 13.95it/s]\n"
          ]
        },
        {
          "metadata": {
            "tags": null
          },
          "name": "stdout",
          "output_type": "stream",
          "text": [
            "6 0.0031685953291501934 24.99133222324097 25.49348215655359\n"
          ]
        },
        {
          "metadata": {
            "tags": null
          },
          "name": "stderr",
          "output_type": "stream",
          "text": [
            "100%|██████████| 409/409 [00:28<00:00, 14.16it/s]\n"
          ]
        },
        {
          "metadata": {
            "tags": null
          },
          "name": "stdout",
          "output_type": "stream",
          "text": [
            "7 0.002957441344228744 25.290838600999987 26.040780039094837\n"
          ]
        },
        {
          "metadata": {
            "tags": null
          },
          "name": "stderr",
          "output_type": "stream",
          "text": [
            "100%|██████████| 409/409 [00:29<00:00, 14.04it/s]\n"
          ]
        },
        {
          "metadata": {
            "tags": null
          },
          "name": "stdout",
          "output_type": "stream",
          "text": [
            "8 0.0029992509373147178 25.229871967506654 25.87195847632593\n"
          ]
        },
        {
          "output_type": "stream",
          "name": "stderr",
          "text": [
            " 51%|█████     | 209/409 [00:15<00:13, 14.97it/s]"
          ]
        }
      ]
    },
    {
      "cell_type": "markdown",
      "source": [
        "放大图像与原始图像的比较"
      ],
      "metadata": {
        "id": "0kW_svk8ULVT"
      }
    },
    {
      "cell_type": "code",
      "source": [
        "from torchvision.utils import save_image\n",
        "random_test_loader=DataLoader(test_data,batch_size=4,shuffle=True)\n",
        "it=iter(random_test_loader)\n",
        "x,y=next(it)\n",
        "\n",
        "bl_recon=torch.nn.functional.interpolate(x,128,mode=\"bilinear\",align_corners=True)\n",
        "yp=net(x.to(\"cuda:0\")).to(\"cpu\")\n",
        "save_image(torch.cat([y,bl_recon,yp],0),\"cnn_upscale.jpg\",nrow=4)"
      ],
      "metadata": {
        "id": "vFfdIv8hR06T"
      },
      "execution_count": 37,
      "outputs": []
    },
    {
      "cell_type": "code",
      "source": [
        "from IPython.display import Image,display_jpeg\n",
        "display_jpeg(Image('cnn_upscale.jpg'))"
      ],
      "metadata": {
        "id": "_gX2nUBRUbY8"
      },
      "execution_count": null,
      "outputs": []
    }
  ],
  "metadata": {
    "colab": {
      "provenance": [],
      "gpuType": "T4",
      "include_colab_link": true
    },
    "kernelspec": {
      "display_name": "Python 3",
      "name": "python3"
    },
    "accelerator": "GPU"
  },
  "nbformat": 4,
  "nbformat_minor": 0
}