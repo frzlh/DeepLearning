{
  "nbformat": 4,
  "nbformat_minor": 0,
  "metadata": {
    "colab": {
      "provenance": [],
      "gpuType": "T4",
      "authorship_tag": "ABX9TyNTE0IM+Z5A17X72cjmpMfz",
      "include_colab_link": true
    },
    "kernelspec": {
      "name": "python3",
      "display_name": "Python 3"
    },
    "language_info": {
      "name": "python"
    },
    "accelerator": "GPU"
  },
  "cells": [
    {
      "cell_type": "markdown",
      "metadata": {
        "id": "view-in-github",
        "colab_type": "text"
      },
      "source": [
        "<a href=\"https://colab.research.google.com/github/frzlh/DeepLearning/blob/main/DCGAN_Adversarial_generating_network.ipynb\" target=\"_parent\"><img src=\"https://colab.research.google.com/assets/colab-badge.svg\" alt=\"Open In Colab\"/></a>"
      ]
    },
    {
      "cell_type": "markdown",
      "source": [
        "准备数据"
      ],
      "metadata": {
        "id": "tUnPmbou93KI"
      }
    },
    {
      "cell_type": "code",
      "execution_count": 1,
      "metadata": {
        "colab": {
          "base_uri": "https://localhost:8080/"
        },
        "id": "V3D4hww42qXe",
        "outputId": "b4c6871a-c3f9-410c-e989-42850cf2b499"
      },
      "outputs": [
        {
          "output_type": "stream",
          "name": "stdout",
          "text": [
            "--2024-08-21 08:57:14--  http://www.robots.ox.ac.uk/~vgg/data/flowers/102/102flowers.tgz\n",
            "Resolving www.robots.ox.ac.uk (www.robots.ox.ac.uk)... 129.67.94.2\n",
            "Connecting to www.robots.ox.ac.uk (www.robots.ox.ac.uk)|129.67.94.2|:80... connected.\n",
            "HTTP request sent, awaiting response... 301 Moved Permanently\n",
            "Location: https://www.robots.ox.ac.uk/~vgg/data/flowers/102/102flowers.tgz [following]\n",
            "--2024-08-21 08:57:14--  https://www.robots.ox.ac.uk/~vgg/data/flowers/102/102flowers.tgz\n",
            "Connecting to www.robots.ox.ac.uk (www.robots.ox.ac.uk)|129.67.94.2|:443... connected.\n",
            "HTTP request sent, awaiting response... 301 Moved Permanently\n",
            "Location: https://thor.robots.ox.ac.uk/flowers/102/102flowers.tgz [following]\n",
            "--2024-08-21 08:57:14--  https://thor.robots.ox.ac.uk/flowers/102/102flowers.tgz\n",
            "Resolving thor.robots.ox.ac.uk (thor.robots.ox.ac.uk)... 129.67.95.98\n",
            "Connecting to thor.robots.ox.ac.uk (thor.robots.ox.ac.uk)|129.67.95.98|:443... connected.\n",
            "HTTP request sent, awaiting response... 200 OK\n",
            "Length: 344862509 (329M) [application/octet-stream]\n",
            "Saving to: ‘102flowers.tgz’\n",
            "\n",
            "102flowers.tgz      100%[===================>] 328.89M  37.8MB/s    in 9.7s    \n",
            "\n",
            "2024-08-21 08:57:25 (34.0 MB/s) - ‘102flowers.tgz’ saved [344862509/344862509]\n",
            "\n"
          ]
        }
      ],
      "source": [
        "!wget http://www.robots.ox.ac.uk/~vgg/data/flowers/102/102flowers.tgz\n",
        "!tar xf 102flowers.tgz\n",
        "!mkdir oxford-102\n",
        "!mkdir g_state\n",
        "!mkdir d_state\n",
        "!mkdir save_img\n",
        "!mkdir oxford-102/jpg\n",
        "!mv jpg/*.jpg oxford-102/jpg\n"
      ]
    },
    {
      "cell_type": "markdown",
      "source": [
        "数据预处理"
      ],
      "metadata": {
        "id": "GdV1ZVpz90uI"
      }
    },
    {
      "cell_type": "code",
      "source": [
        "import torch\n",
        "from torch import nn,optim\n",
        "from torch.utils.data import (Dataset,TensorDataset,DataLoader)\n",
        "import tqdm\n",
        "from torchvision import transforms\n",
        "from torchvision.datasets import ImageFolder\n",
        "from torchvision.utils import save_image\n",
        "image_data=ImageFolder(\n",
        "    \"/content/oxford-102\",\n",
        "    transform=transforms.Compose([\n",
        "        transforms.Resize(80),\n",
        "        transforms.CenterCrop(64),\n",
        "        transforms.ToTensor()\n",
        "    ])\n",
        ")\n",
        "batch_size=64\n",
        "img_loader=DataLoader(image_data,batch_size=batch_size,shuffle=True)\n"
      ],
      "metadata": {
        "id": "jj9rIssM6675"
      },
      "execution_count": 32,
      "outputs": []
    },
    {
      "cell_type": "markdown",
      "source": [
        "图像生成模型的构建"
      ],
      "metadata": {
        "id": "Qthv3YCWGKy_"
      }
    },
    {
      "cell_type": "code",
      "source": [
        "nz=100\n",
        "ngf=32\n",
        "\n",
        "class GNet(nn.Module):\n",
        "  def __init__(self):\n",
        "    super().__init__()\n",
        "    self.main=nn.Sequential(\n",
        "        nn.ConvTranspose2d(nz,ngf*8,4,1,0,bias=False),\n",
        "        nn.BatchNorm2d(ngf*8),\n",
        "        nn.ReLU(inplace=True),\n",
        "        nn.ConvTranspose2d(ngf*8,ngf*4,4,2,1,bias=False),\n",
        "        nn.BatchNorm2d(ngf*4),\n",
        "        nn.ReLU(inplace=True),\n",
        "        nn.ConvTranspose2d(ngf*4,ngf*2,4,2,1,bias=False),\n",
        "        nn.BatchNorm2d(ngf*2),\n",
        "        nn.ReLU(inplace=True),\n",
        "        nn.ConvTranspose2d(ngf*2,ngf,4,2,1,bias=False),\n",
        "        nn.BatchNorm2d(ngf),\n",
        "        nn.ReLU(inplace=True),\n",
        "        nn.ConvTranspose2d(ngf,3,4,2,1,bias=False),\n",
        "        nn.Tanh()\n",
        "\n",
        "    )\n",
        "\n",
        "  def forward(self,x):\n",
        "    out=self.main(x)\n",
        "    return out"
      ],
      "metadata": {
        "id": "zE6AHcJD-BoA"
      },
      "execution_count": 33,
      "outputs": []
    },
    {
      "cell_type": "markdown",
      "source": [
        "图像识别模型的构建"
      ],
      "metadata": {
        "id": "IlPRn-Y6Hbzv"
      }
    },
    {
      "cell_type": "code",
      "source": [
        "ndf=32\n",
        "\n",
        "class DNet(nn.Module):\n",
        "  def __init__(self):\n",
        "    super().__init__()\n",
        "    self.main=nn.Sequential(\n",
        "        nn.Conv2d(3,ndf,4,2,1,bias=False),\n",
        "        nn.LeakyReLU(0.2,inplace=True),\n",
        "        nn.Conv2d(ndf,ndf*2,4,2,1,bias=False),\n",
        "        nn.BatchNorm2d(ndf*2),\n",
        "        nn.LeakyReLU(0.2,inplace=True),\n",
        "        nn.Conv2d(ndf*2,ndf*4,4,2,1,bias=False),\n",
        "        nn.BatchNorm2d(ndf*4),\n",
        "        nn.LeakyReLU(0.2,inplace=True),\n",
        "        nn.Conv2d(ndf*4,ndf*8,4,2,1,bias=False),\n",
        "        nn.BatchNorm2d(ndf*8),\n",
        "        nn.LeakyReLU(0.2,inplace=True),\n",
        "        nn.Conv2d(ndf*8,1,4,1,0,bias=False)\n",
        "    )\n",
        "  def forward(self,x):\n",
        "    out=self.main(x)\n",
        "    return out.squeeze()\n"
      ],
      "metadata": {
        "id": "7Q0e7obUHZ0e"
      },
      "execution_count": 34,
      "outputs": []
    },
    {
      "cell_type": "markdown",
      "source": [
        "训练函数的构建"
      ],
      "metadata": {
        "id": "Hl25OjNmJMBv"
      }
    },
    {
      "cell_type": "code",
      "source": [
        "d=DNet().to(\"cuda:0\")\n",
        "g=GNet().to(\"cuda:0\")\n",
        "opt_d=optim.Adam(d.parameters(),lr=0.02,betas=(0.5,0.999))\n",
        "opt_g=optim.Adam(g.parameters(),lr=0.02,betas=(0.5,0.999))\n",
        "\n",
        "ones=torch.ones(batch_size).to(\"cuda:0\")\n",
        "zeros=torch.zeros(batch_size).to(\"cuda:0\")\n",
        "loss_f=nn.BCEWithLogitsLoss()\n",
        "fixed_z=torch.randn(batch_size,nz,1,1).to(\"cuda:0\")"
      ],
      "metadata": {
        "id": "gw-OK4TsJPxN"
      },
      "execution_count": 35,
      "outputs": []
    },
    {
      "cell_type": "markdown",
      "source": [
        "训练函数"
      ],
      "metadata": {
        "id": "CbxJNxDXKG2d"
      }
    },
    {
      "cell_type": "code",
      "source": [
        "from statistics import mean\n",
        "def train_dcgan(g,d,opt_g,opt_d,loader):\n",
        "  log_loss_g=[]\n",
        "  log_loss_d=[]\n",
        "  for real_img,_ in tqdm.tqdm(loader):\n",
        "    batch_len=len(real_img)\n",
        "    real_img=real_img.to(\"cuda:0\")\n",
        "    z=torch.randn(batch_len,nz,1,1).to(\"cuda:0\")\n",
        "    fake_img=g(z)\n",
        "    fake_img_tensor=fake_img.detach()\n",
        "    out=d(fake_img)\n",
        "    loss_g=loss_f(out,ones[:batch_len])\n",
        "    log_loss_g.append(loss_g.item())\n",
        "    d.zero_grad(),g.zero_grad()\n",
        "    loss_g.backward()\n",
        "    opt_g.step()\n",
        "    real_out=d(real_img)\n",
        "    loss_d_real=loss_f(real_out,ones[:batch_len])\n",
        "    fake_img=fake_img_tensor\n",
        "    fake_out=d(fake_img_tensor)\n",
        "    loss_d_fake=loss_f(fake_out,zeros[:batch_len])\n",
        "    loss_d=loss_d_real+loss_d_fake\n",
        "    log_loss_d.append(loss_d.item())\n",
        "    d.zero_grad,g.zero_grad()\n",
        "    loss_d.backward()\n",
        "    opt_d.step()\n",
        "\n",
        "  return mean(log_loss_g),mean(log_loss_d)"
      ],
      "metadata": {
        "id": "RVSyP5Q4KJYd"
      },
      "execution_count": 36,
      "outputs": []
    },
    {
      "cell_type": "markdown",
      "source": [
        "DCGAN模型的训练"
      ],
      "metadata": {
        "id": "o8sG1ugXl9AI"
      }
    },
    {
      "cell_type": "code",
      "source": [
        "from IPython.display import Image,display_jpeg\n",
        "for epoch in range(300):\n",
        "  train_dcgan(g,d,opt_g,opt_d,img_loader)\n",
        "  if epoch%10==0:\n",
        "    torch.save(\n",
        "        g.state_dict(),\n",
        "        \"g_state/g_{:03d}.prm\".format(epoch),\n",
        "        pickle_protocol=4\n",
        "    )\n",
        "    torch.save(\n",
        "        d.state_dict(),\n",
        "        \"d_state/g_{:03d}.prm\".format(epoch),\n",
        "        pickle_protocol=4\n",
        "    )\n",
        "    generated_img=g(fixed_z)\n",
        "    save_image(generated_img,\"save_img/{:03d}.jpg\".format(epoch))\n"
      ],
      "metadata": {
        "colab": {
          "base_uri": "https://localhost:8080/"
        },
        "id": "Rmx6nRDXl6Oh",
        "outputId": "237e9c36-6210-4d8c-e945-f851426cbe30"
      },
      "execution_count": null,
      "outputs": [
        {
          "output_type": "stream",
          "name": "stderr",
          "text": [
            "100%|██████████| 256/256 [00:37<00:00,  6.84it/s]\n",
            "100%|██████████| 256/256 [00:37<00:00,  6.89it/s]\n",
            "100%|██████████| 256/256 [00:37<00:00,  6.83it/s]\n",
            "100%|██████████| 256/256 [00:37<00:00,  6.88it/s]\n",
            "100%|██████████| 256/256 [00:37<00:00,  6.87it/s]\n",
            "100%|██████████| 256/256 [00:37<00:00,  6.90it/s]\n",
            "100%|██████████| 256/256 [00:37<00:00,  6.85it/s]\n",
            "100%|██████████| 256/256 [00:37<00:00,  6.89it/s]\n",
            "100%|██████████| 256/256 [00:37<00:00,  6.85it/s]\n",
            "100%|██████████| 256/256 [00:37<00:00,  6.86it/s]\n",
            "100%|██████████| 256/256 [00:37<00:00,  6.81it/s]\n",
            "100%|██████████| 256/256 [00:37<00:00,  6.85it/s]\n",
            "100%|██████████| 256/256 [00:36<00:00,  6.97it/s]\n",
            "100%|██████████| 256/256 [00:37<00:00,  6.91it/s]\n",
            "100%|██████████| 256/256 [00:37<00:00,  6.90it/s]\n",
            "100%|██████████| 256/256 [00:37<00:00,  6.89it/s]\n",
            "100%|██████████| 256/256 [00:37<00:00,  6.83it/s]\n",
            "100%|██████████| 256/256 [00:37<00:00,  6.84it/s]\n",
            "100%|██████████| 256/256 [00:37<00:00,  6.77it/s]\n",
            "100%|██████████| 256/256 [00:37<00:00,  6.77it/s]\n",
            "100%|██████████| 256/256 [00:37<00:00,  6.82it/s]\n",
            "100%|██████████| 256/256 [00:37<00:00,  6.88it/s]\n",
            "100%|██████████| 256/256 [00:37<00:00,  6.90it/s]\n",
            "100%|██████████| 256/256 [00:37<00:00,  6.88it/s]\n",
            "100%|██████████| 256/256 [00:37<00:00,  6.85it/s]\n",
            "100%|██████████| 256/256 [00:37<00:00,  6.87it/s]\n",
            "100%|██████████| 256/256 [00:37<00:00,  6.87it/s]\n",
            "100%|██████████| 256/256 [00:37<00:00,  6.86it/s]\n",
            "100%|██████████| 256/256 [00:37<00:00,  6.92it/s]\n",
            "100%|██████████| 256/256 [00:37<00:00,  6.90it/s]\n",
            "100%|██████████| 256/256 [00:37<00:00,  6.89it/s]\n",
            "100%|██████████| 256/256 [00:37<00:00,  6.89it/s]\n",
            "100%|██████████| 256/256 [00:37<00:00,  6.87it/s]\n",
            "100%|██████████| 256/256 [00:37<00:00,  6.85it/s]\n",
            "100%|██████████| 256/256 [00:37<00:00,  6.88it/s]\n",
            "100%|██████████| 256/256 [00:37<00:00,  6.89it/s]\n",
            "100%|██████████| 256/256 [00:37<00:00,  6.88it/s]\n",
            "100%|██████████| 256/256 [00:37<00:00,  6.89it/s]\n",
            "100%|██████████| 256/256 [00:37<00:00,  6.83it/s]\n",
            "100%|██████████| 256/256 [00:37<00:00,  6.88it/s]\n",
            "100%|██████████| 256/256 [00:37<00:00,  6.91it/s]\n",
            "100%|██████████| 256/256 [00:37<00:00,  6.90it/s]\n",
            "100%|██████████| 256/256 [00:37<00:00,  6.88it/s]\n",
            "100%|██████████| 256/256 [00:37<00:00,  6.89it/s]\n",
            "100%|██████████| 256/256 [00:37<00:00,  6.90it/s]\n",
            "100%|██████████| 256/256 [00:37<00:00,  6.85it/s]\n",
            "100%|██████████| 256/256 [00:37<00:00,  6.88it/s]\n",
            "100%|██████████| 256/256 [00:37<00:00,  6.88it/s]\n",
            "100%|██████████| 256/256 [00:37<00:00,  6.86it/s]\n",
            "100%|██████████| 256/256 [00:37<00:00,  6.89it/s]\n",
            "100%|██████████| 256/256 [00:37<00:00,  6.92it/s]\n",
            "100%|██████████| 256/256 [00:37<00:00,  6.90it/s]\n",
            "100%|██████████| 256/256 [00:37<00:00,  6.88it/s]\n",
            "100%|██████████| 256/256 [00:37<00:00,  6.88it/s]\n",
            "100%|██████████| 256/256 [00:37<00:00,  6.86it/s]\n",
            "100%|██████████| 256/256 [00:37<00:00,  6.91it/s]\n",
            "100%|██████████| 256/256 [00:37<00:00,  6.88it/s]\n",
            "100%|██████████| 256/256 [00:37<00:00,  6.88it/s]\n",
            "100%|██████████| 256/256 [00:37<00:00,  6.88it/s]\n",
            "100%|██████████| 256/256 [00:37<00:00,  6.89it/s]\n",
            "100%|██████████| 256/256 [00:37<00:00,  6.86it/s]\n",
            "100%|██████████| 256/256 [00:36<00:00,  6.95it/s]\n",
            "100%|██████████| 256/256 [00:37<00:00,  6.88it/s]\n",
            "100%|██████████| 256/256 [00:37<00:00,  6.82it/s]\n",
            "100%|██████████| 256/256 [00:37<00:00,  6.80it/s]\n",
            "100%|██████████| 256/256 [00:37<00:00,  6.80it/s]\n",
            "100%|██████████| 256/256 [00:37<00:00,  6.86it/s]\n",
            "100%|██████████| 256/256 [00:37<00:00,  6.80it/s]\n",
            "100%|██████████| 256/256 [00:37<00:00,  6.84it/s]\n",
            "100%|██████████| 256/256 [00:37<00:00,  6.91it/s]\n",
            "100%|██████████| 256/256 [00:36<00:00,  6.95it/s]\n",
            "100%|██████████| 256/256 [00:36<00:00,  7.01it/s]\n",
            "100%|██████████| 256/256 [00:37<00:00,  6.89it/s]\n",
            "100%|██████████| 256/256 [00:37<00:00,  6.89it/s]\n",
            "100%|██████████| 256/256 [00:37<00:00,  6.91it/s]\n",
            "100%|██████████| 256/256 [00:37<00:00,  6.90it/s]\n",
            "100%|██████████| 256/256 [00:36<00:00,  6.92it/s]\n",
            "100%|██████████| 256/256 [00:36<00:00,  6.93it/s]\n",
            "100%|██████████| 256/256 [00:36<00:00,  6.96it/s]\n",
            "100%|██████████| 256/256 [00:36<00:00,  6.96it/s]\n",
            "100%|██████████| 256/256 [00:36<00:00,  6.94it/s]\n",
            "100%|██████████| 256/256 [00:36<00:00,  6.96it/s]\n",
            "100%|██████████| 256/256 [00:36<00:00,  7.01it/s]\n",
            "100%|██████████| 256/256 [00:36<00:00,  6.95it/s]\n",
            "100%|██████████| 256/256 [00:37<00:00,  6.85it/s]\n",
            "100%|██████████| 256/256 [00:37<00:00,  6.85it/s]\n",
            "100%|██████████| 256/256 [00:37<00:00,  6.82it/s]\n",
            "100%|██████████| 256/256 [00:38<00:00,  6.73it/s]\n",
            "100%|██████████| 256/256 [00:37<00:00,  6.83it/s]\n",
            "100%|██████████| 256/256 [00:37<00:00,  6.82it/s]\n",
            "100%|██████████| 256/256 [00:37<00:00,  6.79it/s]\n",
            "100%|██████████| 256/256 [00:37<00:00,  6.80it/s]\n",
            "100%|██████████| 256/256 [00:37<00:00,  6.79it/s]\n",
            "100%|██████████| 256/256 [00:37<00:00,  6.78it/s]\n",
            "100%|██████████| 256/256 [00:37<00:00,  6.78it/s]\n",
            "100%|██████████| 256/256 [00:37<00:00,  6.75it/s]\n",
            "100%|██████████| 256/256 [00:37<00:00,  6.80it/s]\n",
            "100%|██████████| 256/256 [00:38<00:00,  6.72it/s]\n",
            "100%|██████████| 256/256 [00:38<00:00,  6.68it/s]\n",
            "100%|██████████| 256/256 [00:37<00:00,  6.84it/s]\n",
            "100%|██████████| 256/256 [00:36<00:00,  6.97it/s]\n",
            "100%|██████████| 256/256 [00:36<00:00,  6.97it/s]\n",
            "100%|██████████| 256/256 [00:36<00:00,  6.93it/s]\n",
            "100%|██████████| 256/256 [00:36<00:00,  6.97it/s]\n",
            "100%|██████████| 256/256 [00:36<00:00,  6.99it/s]\n",
            "100%|██████████| 256/256 [00:36<00:00,  6.97it/s]\n",
            "100%|██████████| 256/256 [00:36<00:00,  6.97it/s]\n",
            "100%|██████████| 256/256 [00:36<00:00,  7.00it/s]\n",
            "100%|██████████| 256/256 [00:36<00:00,  6.98it/s]\n",
            "100%|██████████| 256/256 [00:36<00:00,  6.95it/s]\n",
            "100%|██████████| 256/256 [00:36<00:00,  6.94it/s]\n",
            "100%|██████████| 256/256 [00:36<00:00,  6.98it/s]\n",
            "100%|██████████| 256/256 [00:37<00:00,  6.87it/s]\n",
            "100%|██████████| 256/256 [00:36<00:00,  6.92it/s]\n",
            "100%|██████████| 256/256 [00:36<00:00,  7.02it/s]\n",
            "100%|██████████| 256/256 [00:36<00:00,  7.05it/s]\n",
            "100%|██████████| 256/256 [00:36<00:00,  6.97it/s]\n",
            "100%|██████████| 256/256 [00:36<00:00,  7.01it/s]\n",
            "100%|██████████| 256/256 [00:36<00:00,  7.05it/s]\n",
            "100%|██████████| 256/256 [00:37<00:00,  6.91it/s]\n",
            "100%|██████████| 256/256 [00:36<00:00,  7.00it/s]\n",
            "100%|██████████| 256/256 [00:36<00:00,  7.00it/s]\n",
            "100%|██████████| 256/256 [00:36<00:00,  6.95it/s]\n",
            "100%|██████████| 256/256 [00:36<00:00,  6.98it/s]\n",
            "100%|██████████| 256/256 [00:36<00:00,  6.99it/s]\n",
            "100%|██████████| 256/256 [00:37<00:00,  6.90it/s]\n",
            " 46%|████▌     | 117/256 [00:17<00:18,  7.47it/s]"
          ]
        }
      ]
    }
  ]
}